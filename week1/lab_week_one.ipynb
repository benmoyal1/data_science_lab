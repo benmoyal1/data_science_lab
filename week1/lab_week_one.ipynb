{
 "cells": [
  {
   "cell_type": "code",
   "execution_count": 16,
   "metadata": {
    "collapsed": true
   },
   "outputs": [],
   "source": [
    "import pandas as pd\n",
    "import numpy as np"
   ]
  },
  {
   "cell_type": "code",
   "execution_count": 17,
   "metadata": {},
   "outputs": [
    {
     "name": "stdout",
     "output_type": "stream",
     "text": [
      "<class 'pandas.core.frame.DataFrame'>\n",
      "RangeIndex: 23967 entries, 0 to 23966\n",
      "Data columns (total 26 columns):\n",
      " #   Column                    Non-Null Count  Dtype  \n",
      "---  ------                    --------------  -----  \n",
      " 0   Unnamed: 0                23967 non-null  int64  \n",
      " 1   incident_id               23967 non-null  int64  \n",
      " 2   date                      23967 non-null  object \n",
      " 3   state                     23967 non-null  object \n",
      " 4   city_or_county            23967 non-null  object \n",
      " 5   address                   22327 non-null  object \n",
      " 6   n_killed                  23967 non-null  int64  \n",
      " 7   n_injured                 23967 non-null  int64  \n",
      " 8   congressional_district    22780 non-null  float64\n",
      " 9   gun_stolen                14015 non-null  object \n",
      " 10  gun_type                  14017 non-null  object \n",
      " 11  incident_characteristics  23938 non-null  object \n",
      " 12  latitude                  23338 non-null  object \n",
      " 13  location_description      4150 non-null   object \n",
      " 14  longitude                 23192 non-null  float64\n",
      " 15  n_guns_involved           14017 non-null  float64\n",
      " 16  notes                     16000 non-null  object \n",
      " 17  participant_age           14764 non-null  object \n",
      " 18  participant_age_group     19782 non-null  object \n",
      " 19  participant_gender        20368 non-null  object \n",
      " 20  participant_name          11635 non-null  object \n",
      " 21  participant_relationship  1602 non-null   object \n",
      " 22  participant_status        21183 non-null  object \n",
      " 23  participant_type          21444 non-null  object \n",
      " 24  state_house_district      20014 non-null  float64\n",
      " 25  state_senate_district     20682 non-null  float64\n",
      "dtypes: float64(5), int64(4), object(17)\n",
      "memory usage: 4.8+ MB\n"
     ]
    }
   ],
   "source": [
    "df = pd.read_csv('ex1.csv')\n",
    "df.info()"
   ]
  },
  {
   "cell_type": "code",
   "execution_count": 18,
   "outputs": [
    {
     "data": {
      "text/plain": "   Unnamed: 0  incident_id        date           state city_or_county  \\\n0           0       137007  2016-07-23            Utah         Draper   \n1           1        49807  2014-12-13              -1        Chicago   \n2           2         2318  2014-01-15  south carolina           Irmo   \n3           3       237635  2018-03-18              -1        Detroit   \n4           4       238068  2018-03-21        Michigan  Benton Harbor   \n\n                             address  n_killed  n_injured  \\\n0                        12300 South         0          1   \n1  10400 block of South State Street        -1          0   \n2                1 Forest Walk Court         4          0   \n3     5600 BLOCK OF JOHN C LODGE FWY         0          0   \n4           1200 block of Parkway Dr         0          0   \n\n   congressional_district  gun_stolen  ...  \\\n0                     4.0         NaN  ...   \n1                     2.0  0::Unknown  ...   \n2                     2.0         NaN  ...   \n3                     NaN  0::Unknown  ...   \n4                     6.0   0::Stolen  ...   \n\n                                               notes  \\\n0  Man wanted for prior agg asault shot self in h...   \n1                                Man shot, drive-by;   \n2                                                NaN   \n3                                                NaN   \n4                         raid, drug, stolen handgun   \n\n              participant_age  \\\n0                       0::30   \n1                       0::26   \n2    0::28||1::3||2::1||3::38   \n3                         NaN   \n4  0::34||1::39||2::31||3::47   \n\n                               participant_age_group  \\\n0                                       0::Adult 18+   \n1                                       0::Adult 18+   \n2  0::Adult 18+||1::Child 0-11||2::Child 0-11||3:...   \n3                                                NaN   \n4  0::Adult 18+||1::Adult 18+||2::Adult 18+||3::A...   \n\n                       participant_gender  \\\n0                                 0::Male   \n1                                 0::Male   \n2  0::Female||1::Male||2::Female||3::Male   \n3                                     NaN   \n4      0::Male||1::Male||2::Male||3::Male   \n\n                                    participant_name  \\\n0                                    0::Eddie Heuser   \n1                               0::Tyrece L. Stornes   \n2  0::Kia Miller||1::Kyler Devane Miller||2::Syra...   \n3                                                NaN   \n4  0::Sylvester Davis III||1::Leonard Robinson||2...   \n\n   participant_relationship  \\\n0                       NaN   \n1                       NaN   \n2                 3::Family   \n3                       NaN   \n4                       NaN   \n\n                                  participant_status  \\\n0                                         0::Injured   \n1                                          0::Killed   \n2         0::Killed||1::Killed||2::Killed||3::Killed   \n3                                                NaN   \n4  0::Unharmed, Arrested||1::Unharmed, Arrested||...   \n\n                                    participant_type state_house_district  \\\n0                                 0::Subject-Suspect                 51.0   \n1                                          0::Victim                 28.0   \n2  0::Victim||1::Victim||2::Victim||3::Subject-Su...                 73.0   \n3                                                NaN                  NaN   \n4  0::Subject-Suspect||1::Subject-Suspect||2::Sub...                 79.0   \n\n  state_senate_district  \n0                  11.0  \n1                  14.0  \n2                  19.0  \n3                   NaN  \n4                  21.0  \n\n[5 rows x 26 columns]",
      "text/html": "<div>\n<style scoped>\n    .dataframe tbody tr th:only-of-type {\n        vertical-align: middle;\n    }\n\n    .dataframe tbody tr th {\n        vertical-align: top;\n    }\n\n    .dataframe thead th {\n        text-align: right;\n    }\n</style>\n<table border=\"1\" class=\"dataframe\">\n  <thead>\n    <tr style=\"text-align: right;\">\n      <th></th>\n      <th>Unnamed: 0</th>\n      <th>incident_id</th>\n      <th>date</th>\n      <th>state</th>\n      <th>city_or_county</th>\n      <th>address</th>\n      <th>n_killed</th>\n      <th>n_injured</th>\n      <th>congressional_district</th>\n      <th>gun_stolen</th>\n      <th>...</th>\n      <th>notes</th>\n      <th>participant_age</th>\n      <th>participant_age_group</th>\n      <th>participant_gender</th>\n      <th>participant_name</th>\n      <th>participant_relationship</th>\n      <th>participant_status</th>\n      <th>participant_type</th>\n      <th>state_house_district</th>\n      <th>state_senate_district</th>\n    </tr>\n  </thead>\n  <tbody>\n    <tr>\n      <th>0</th>\n      <td>0</td>\n      <td>137007</td>\n      <td>2016-07-23</td>\n      <td>Utah</td>\n      <td>Draper</td>\n      <td>12300 South</td>\n      <td>0</td>\n      <td>1</td>\n      <td>4.0</td>\n      <td>NaN</td>\n      <td>...</td>\n      <td>Man wanted for prior agg asault shot self in h...</td>\n      <td>0::30</td>\n      <td>0::Adult 18+</td>\n      <td>0::Male</td>\n      <td>0::Eddie Heuser</td>\n      <td>NaN</td>\n      <td>0::Injured</td>\n      <td>0::Subject-Suspect</td>\n      <td>51.0</td>\n      <td>11.0</td>\n    </tr>\n    <tr>\n      <th>1</th>\n      <td>1</td>\n      <td>49807</td>\n      <td>2014-12-13</td>\n      <td>-1</td>\n      <td>Chicago</td>\n      <td>10400 block of South State Street</td>\n      <td>-1</td>\n      <td>0</td>\n      <td>2.0</td>\n      <td>0::Unknown</td>\n      <td>...</td>\n      <td>Man shot, drive-by;</td>\n      <td>0::26</td>\n      <td>0::Adult 18+</td>\n      <td>0::Male</td>\n      <td>0::Tyrece L. Stornes</td>\n      <td>NaN</td>\n      <td>0::Killed</td>\n      <td>0::Victim</td>\n      <td>28.0</td>\n      <td>14.0</td>\n    </tr>\n    <tr>\n      <th>2</th>\n      <td>2</td>\n      <td>2318</td>\n      <td>2014-01-15</td>\n      <td>south carolina</td>\n      <td>Irmo</td>\n      <td>1 Forest Walk Court</td>\n      <td>4</td>\n      <td>0</td>\n      <td>2.0</td>\n      <td>NaN</td>\n      <td>...</td>\n      <td>NaN</td>\n      <td>0::28||1::3||2::1||3::38</td>\n      <td>0::Adult 18+||1::Child 0-11||2::Child 0-11||3:...</td>\n      <td>0::Female||1::Male||2::Female||3::Male</td>\n      <td>0::Kia Miller||1::Kyler Devane Miller||2::Syra...</td>\n      <td>3::Family</td>\n      <td>0::Killed||1::Killed||2::Killed||3::Killed</td>\n      <td>0::Victim||1::Victim||2::Victim||3::Subject-Su...</td>\n      <td>73.0</td>\n      <td>19.0</td>\n    </tr>\n    <tr>\n      <th>3</th>\n      <td>3</td>\n      <td>237635</td>\n      <td>2018-03-18</td>\n      <td>-1</td>\n      <td>Detroit</td>\n      <td>5600 BLOCK OF JOHN C LODGE FWY</td>\n      <td>0</td>\n      <td>0</td>\n      <td>NaN</td>\n      <td>0::Unknown</td>\n      <td>...</td>\n      <td>NaN</td>\n      <td>NaN</td>\n      <td>NaN</td>\n      <td>NaN</td>\n      <td>NaN</td>\n      <td>NaN</td>\n      <td>NaN</td>\n      <td>NaN</td>\n      <td>NaN</td>\n      <td>NaN</td>\n    </tr>\n    <tr>\n      <th>4</th>\n      <td>4</td>\n      <td>238068</td>\n      <td>2018-03-21</td>\n      <td>Michigan</td>\n      <td>Benton Harbor</td>\n      <td>1200 block of Parkway Dr</td>\n      <td>0</td>\n      <td>0</td>\n      <td>6.0</td>\n      <td>0::Stolen</td>\n      <td>...</td>\n      <td>raid, drug, stolen handgun</td>\n      <td>0::34||1::39||2::31||3::47</td>\n      <td>0::Adult 18+||1::Adult 18+||2::Adult 18+||3::A...</td>\n      <td>0::Male||1::Male||2::Male||3::Male</td>\n      <td>0::Sylvester Davis III||1::Leonard Robinson||2...</td>\n      <td>NaN</td>\n      <td>0::Unharmed, Arrested||1::Unharmed, Arrested||...</td>\n      <td>0::Subject-Suspect||1::Subject-Suspect||2::Sub...</td>\n      <td>79.0</td>\n      <td>21.0</td>\n    </tr>\n  </tbody>\n</table>\n<p>5 rows × 26 columns</p>\n</div>"
     },
     "execution_count": 18,
     "metadata": {},
     "output_type": "execute_result"
    }
   ],
   "source": [
    "df.head(5)"
   ],
   "metadata": {
    "collapsed": false
   }
  },
  {
   "cell_type": "code",
   "execution_count": 19,
   "metadata": {},
   "outputs": [],
   "source": [
    "# while exploring the data , after checkin online about the categories\n",
    "# i sampled the feature to get some sense of it\n",
    "# df[\"feature\"].sample(10)"
   ]
  },
  {
   "cell_type": "markdown",
   "source": [
    "# Question 1 - a\n",
    "The Categorical features are:\n",
    "gun_type,state,city_or_county,participant_age_group,participant_gender,participant_relationship,participant_status,participant_type\n",
    "\n",
    "The Ordinal features are:\n",
    "date,n_killed,n_injured,gun_stolen,n_guns_involved,participant_age,state_house_district\n",
    "\n",
    "The continuous features are:\n",
    "latitude,longitude\n",
    "\n",
    "Closets to categorical features but not really:\n",
    "incident_id,address,location_description(kind of),notes(kind of),participant_name\n",
    "\n"
   ],
   "metadata": {
    "collapsed": false
   }
  },
  {
   "cell_type": "code",
   "execution_count": 20,
   "outputs": [
    {
     "data": {
      "text/plain": "Index(['Unnamed: 0', 'incident_id', 'date', 'state', 'city_or_county',\n       'address', 'n_killed', 'n_injured', 'congressional_district',\n       'gun_stolen', 'gun_type', 'incident_characteristics', 'latitude',\n       'location_description', 'longitude', 'n_guns_involved', 'notes',\n       'participant_age', 'participant_age_group', 'participant_gender',\n       'participant_name', 'participant_relationship', 'participant_status',\n       'participant_type', 'state_house_district', 'state_senate_district'],\n      dtype='object')"
     },
     "execution_count": 20,
     "metadata": {},
     "output_type": "execute_result"
    }
   ],
   "source": [
    "df.columns"
   ],
   "metadata": {
    "collapsed": false
   }
  },
  {
   "cell_type": "markdown",
   "source": [
    "# Question 1 - b"
   ],
   "metadata": {
    "collapsed": false
   }
  },
  {
   "cell_type": "code",
   "execution_count": 21,
   "outputs": [],
   "source": [
    "def fill_nah_with_node(dataframe:pd.DataFrame) -> pd.DataFrame:\n",
    "    \"\"\"\n",
    "    fills all nah value in the column with the mode of the feature\n",
    "    :param dataframe:\n",
    "    :return:\n",
    "    \"\"\"\n",
    "    for feature in dataframe.columns:\n",
    "        mode = df[feature].mode()[0]\n",
    "        dataframe[feature] = dataframe[feature].fillna(mode)\n",
    "    return dataframe"
   ],
   "metadata": {
    "collapsed": false
   }
  },
  {
   "cell_type": "code",
   "execution_count": 22,
   "outputs": [
    {
     "data": {
      "text/plain": "array([0], dtype=int64)"
     },
     "execution_count": 22,
     "metadata": {},
     "output_type": "execute_result"
    }
   ],
   "source": [
    "df = fill_nah_with_node(df)\n",
    "df.isna().sum().unique() # counts the number of na values in the series and double check  with unique()"
   ],
   "metadata": {
    "collapsed": false
   }
  },
  {
   "cell_type": "markdown",
   "source": [
    "# Question 1 - C\n",
    "the columns i will fix are - Gun_stolen,Participant age and"
   ],
   "metadata": {
    "collapsed": false
   }
  },
  {
   "cell_type": "code",
   "execution_count": 23,
   "outputs": [
    {
     "data": {
      "text/plain": "['0::Unknown',\n '0::Stolen',\n '0::Unknown||1::Unknown',\n '0::Not-stolen',\n '0::Unknown||1::Stolen',\n '0:Unknown',\n '0::Stolen||1::Stolen||2::Stolen',\n '0::Unknown||1::Unknown||2::Unknown',\n '0::Unknown||1::Unknown||2::Unknown||3::Unknown||4::Unknown||5::Unknown||6::Unknown',\n '0::Unknown||1::Unknown||2::Unknown||3::Unknown',\n '0::Unknown||1::Unknown||2::Unknown||3::Unknown||4::Unknown||5::Unknown||6::Unknown||7::Unknown||8::Unknown||9::Unknown||10::Unknown||11::Unknown||12::Unknown||13::Unknown||14::Unknown||15::Unknown||16::Unknown||17::Unknown||18::Unknown||19::Unknown||20::Unknown||21::Unknown||22::Unknown||23::Unknown||24::Unknown||25::Unknown||26::Unknown||27::Unknown||28::Unknown||29::Unknown||30::Unknown||31::Unknown||32::Unknown||33::Unknown',\n '0::Stolen||1::Stolen',\n '0::Stolen||1::Stolen||2::Stolen||3::Unknown',\n '0::Unknown||1::Unknown||2::Unknown||3::Unknown||4::Unknown',\n '0::Stolen||1::Unknown',\n '0::Unknown||1::Unknown||2::Unknown||3::Unknown||4::Unknown||5::Unknown',\n '0::Stolen||1::Stolen||2::Stolen||3::Stolen||4::Stolen||5::Stolen||6::Stolen||7::Stolen||8::Stolen||9::Stolen||10::Stolen||11::Stolen||12::Stolen||13::Stolen||14::Stolen||15::Stolen||16::Stolen||17::Stolen||18::Stolen||19::Stolen||20::Stolen||21::Stolen||22::Stolen||23::Stolen||24::Stolen||25::Stolen||26::Stolen||27::Stolen',\n '0::Unknown||1::Unknown||2::Unknown||3::Unknown||4::Unknown||5::Unknown||6::Unknown||7::Unknown||8::Unknown||9::Unknown||10::Unknown||11::Unknown||12::Unknown',\n '0::Unknown||1::Unknown||2::Unknown||3::Unknown||4::Unknown||5::Unknown||6::Unknown||7::Unknown||8::Unknown||9::Unknown||10::Unknown||11::Unknown||12::Unknown||13::Unknown||14::Unknown||15::Unknown||16::Unknown||17::Unknown||18::Unknown||19::Unknown||20::Unknown||21::Unknown||22::Unknown||23::Unknown||24::Unknown||25::Unknown||26::Unknown||27::Unknown||28::Unknown||29::Unknown||30::Unknown||31::Unknown||32::Unknown||33::Unknown||34::Unknown||35::Unknown||36::Unknown||37::Unknown||38::Unknown||39::Unknown||40::Unknown||41::Unknown||42::Unknown||43::Unknown||44::Unknown||45::Unknown||46::Unknown||47::Unknown||48::Unknown||49::Unknown||50::Unknown||51::Unknown||52::Unknown||53::Unknown||54::Unknown||55::Unknown||56::Unknown||57::Unknown||58::Unknown||59::Unknown||60::Unknown||61::Unknown||62::Unknown||63::Unknown||64::Unknown||65::Unknown||66::Unknown||67::Unknown||68::Unknown||69::Unknown||70::Unknown||71::Unknown||72::Unknown||73::Unknown||74::Unknown||75::Unknown||76::Unknown||77::Unknown||78::Unknown||79::Unknown||80::Unknown',\n '0::Stolen||1::Stolen||2::Stolen||3::Not-stolen||4::Not-stolen',\n '0::Unknown||1::Unknown||2::Unknown||3::Unknown||4::Unknown||5::Unknown||6::Unknown||7::Unknown',\n '0::Stolen||1::Stolen||2::Stolen||3::Stolen||4::Unknown||5::Unknown||6::Unknown',\n '0::Stolen||1::Stolen||2::Stolen||3::Stolen||4::Stolen||5::Stolen',\n '0::Stolen||1::Stolen||2::Stolen||3::Stolen||4::Stolen||5::Stolen||6::Stolen',\n '0::Unknown||1::Unknown||2::Unknown||3::Unknown||4::Unknown||5::Unknown||6::Unknown||7::Unknown||8::Unknown',\n '0::Stolen||1::Stolen||2::Unknown||3::Unknown',\n '0::Unknown||1::Unknown||2::Unknown||3::Unknown||4::Unknown||5::Unknown||6::Unknown||7::Unknown||8::Unknown||9::Unknown',\n '0::Unknown||1::Unknown||2::Unknown||3::Stolen',\n '0::Stolen||1::Stolen||2::Unknown||3::Unknown||4::Unknown||5::Unknown||6::Unknown||7::Unknown',\n '0::Unknown||1::Unknown||2::Unknown||3::Unknown||4::Unknown||5::Unknown||6::Unknown||7::Unknown||8::Unknown||9::Unknown||10::Unknown||11::Unknown||12::Unknown||13::Unknown||14::Unknown||15::Unknown||16::Unknown||17::Unknown||18::Unknown||19::Unknown||20::Unknown||21::Unknown||22::Unknown||23::Unknown||24::Unknown||25::Unknown||26::Unknown||27::Unknown||28::Unknown||29::Unknown||30::Unknown||31::Unknown||32::Unknown||33::Unknown||34::Unknown||35::Unknown||36::Unknown||37::Unknown||38::Unknown||39::Unknown||40::Unknown||41::Unknown||42::Unknown||43::Unknown||44::Unknown||45::Unknown||46::Unknown||47::Unknown||48::Unknown||49::Unknown||50::Unknown||51::Unknown||52::Unknown||53::Unknown||54::Unknown||55::Unknown||56::Unknown||57::Unknown||58::Unknown||59::Unknown||60::Unknown||61::Unknown||62::Unknown||63::Unknown||64::Unknown||65::Unknown||66::Unknown||67::Unknown||68::Unknown||69::Unknown||70::Unknown||71::Unknown||72::Unknown||73::Unknown||74::Unknown||75::Unknown||76::Unknown||77::Unknown||78::Unknown||79::Unknown||80::Unknown||81::Unknown||82::Unknown||83::Unknown||84::Unknown||85::Unknown||86::Unknown||87::Unknown||88::Unknown||89::Unknown||90::Unknown||91::Unknown||92::Unknown||93::Unknown||94::Unknown||95::Unknown||96::Unknown||97::Unknown||98::Unknown||99::Unknown||100::Unknown||101::Unknown||102::Unknown',\n '0::Stolen||1::Unknown||2::Stolen||3::Stolen||4::Stolen||5::Stolen||6::Stolen||7::Stolen||8::Stolen||9::Stolen||10::Stolen||11::Stolen||12::Stolen||13::Stolen||14::Stolen||15::Stolen||16::Stolen||17::Stolen||18::Stolen||19::Stolen||20::Stolen||21::Stolen||22::Stolen||23::Stolen||24::Stolen||25::Stolen||26::Stolen',\n '0::Not-stolen||1::Unknown',\n '0::Stolen||1::Unknown||2::Unknown||3::Unknown',\n '0::Unknown||1::Unknown||2::Unknown||3::Unknown||4::Unknown||5::Unknown||6::Unknown||7::Unknown||8::Unknown||9::Unknown||10::Unknown||11::Unknown||12::Unknown||13::Unknown',\n '0::Stolen||1::Stolen||2::Stolen||3::Stolen',\n '0::Stolen||1::Unknown||2::Unknown',\n '0::Stolen||1::Stolen||2::Stolen||3::Stolen||4::Stolen||5::Stolen||6::Stolen||7::Stolen',\n '0::Stolen||1::Stolen||2::Stolen||3::Stolen||4::Stolen||5::Stolen||6::Stolen||7::Stolen||8::Stolen||9::Stolen||10::Stolen||11::Stolen||12::Stolen||13::Stolen||14::Stolen||15::Stolen',\n '0::Unknown||1::Unknown||2::Unknown||3::Unknown||4::Unknown||5::Unknown||6::Unknown||7::Unknown||8::Unknown||9::Unknown||10::Unknown||11::Unknown||12::Unknown||13::Unknown||14::Unknown||15::Unknown||16::Unknown||17::Unknown||18::Unknown||19::Unknown||20::Unknown||21::Unknown||22::Unknown||23::Unknown||24::Unknown||25::Unknown||26::Unknown||27::Unknown||28::Unknown||29::Unknown||30::Unknown||31::Unknown||32::Unknown||33::Unknown||34::Unknown||35::Unknown||36::Unknown||37::Unknown||38::Unknown||39::Unknown||40::Unknown||41::Unknown||42::Unknown||43::Unknown||44::Unknown||45::Unknown||46::Unknown||47::Unknown',\n '0::Stolen||1::Stolen||2::Stolen||3::Stolen||4::Stolen||5::Stolen||6::Stolen||7::Stolen||8::Stolen||9::Stolen',\n '0::Not-stolen||1::Stolen',\n '0::Stolen||1::Stolen||2::Stolen||3::Stolen||4::Stolen||5::Stolen||6::Stolen||7::Stolen||8::Stolen||9::Stolen||10::Stolen||11::Stolen||12::Stolen||13::Stolen',\n '0::Unknown||1::Unknown||2::Unknown||3::Unknown||4::Unknown||5::Unknown||6::Unknown||7::Unknown||8::Unknown||9::Unknown||10::Unknown||11::Unknown||12::Unknown||13::Unknown||14::Unknown||15::Unknown||16::Unknown||17::Unknown||18::Unknown',\n '0::Unknown||1::Unknown||2::Unknown||3::Unknown||4::Unknown||5::Unknown||6::Unknown||7::Unknown||8::Unknown||9::Unknown||10::Unknown||11::Unknown||12::Unknown||13::Unknown||14::Unknown||15::Unknown||16::Unknown||17::Unknown||18::Unknown||19::Unknown||20::Unknown||21::Unknown||22::Unknown||23::Unknown||24::Unknown||25::Unknown||26::Unknown||27::Unknown||28::Unknown||29::Unknown||30::Unknown||31::Unknown||32::Unknown||33::Unknown||34::Unknown||35::Unknown||36::Unknown||37::Unknown||38::Unknown||39::Unknown||40::Unknown||41::Unknown||42::Unknown||43::Unknown||44::Unknown||45::Unknown||46::Unknown||47::Unknown||48::Unknown||49::Unknown||50::Unknown||51::Unknown||52::Unknown||53::Unknown||54::Unknown||55::Unknown||56::Unknown||57::Unknown||58::Unknown||59::Unknown||60::Unknown||61::Unknown||62::Unknown||63::Unknown||64::Unknown||65::Unknown||66::Unknown||67::Unknown||68::Unknown||69::Unknown||70::Unknown||71::Unknown||72::Unknown||73::Unknown||74::Unknown||75::Unknown||76::Unknown||77::Unknown||78::Unknown||79::Unknown||80::Unknown||81::Unknown||82::Unknown||83::Unknown||84::Unknown||85::Unknown||86::Unknown||87::Unknown||88::Unknown||89::Unknown||90::Unknown||91::Unknown||92::Unknown||93::Unknown||94::Unknown||95::Unknown||96::Unknown||97::Unknown||98::Unknown||99::Unknown||100::Unknown||101::Unknown||102::Unknown||103::Unknown||104::Unknown||105::Unknown||106::Unknown||107::Unknown||108::Unknown||109::Unknown||110::Unknown||111::Unknown||112::Unknown||113::Unknown||114::Unknown||115::Unknown||116::Unknown||117::Unknown||118::Unknown||119::Unknown||120::Unknown||121::Unknown||122::Unknown||123::Unknown||124::Unknown||125::Unknown||126::Unknown||127::Unknown||128::Unknown||129::Unknown||130::Unknown||131::Unknown||132::Unknown||133::Unknown||134::Unknown||135::Unknown||136::Unknown||137::Unknown||138::Unknown||139::Unknown||140::Unknown||141::Unknown||142::Unknown||143::Unknown||144::Unknown||145::Unknown||146::Unknown||147::Unknown||148::Unknown||149::Unknown||150::Unknown||151::Unknown||152::Unknown||153::Unknown||154::Unknown||155::Unknown||156::Unknown||157::Unknown||158::Unknown||159::Unknown||160::Unknown||161::Unknown||162::Unknown||163::Unknown||164::Unknown||165::Unknown||166::Unknown||167::Unknown||168::Unknown||169::Unknown||170::Unknown||171::Unknown||172::Unknown||173::Unknown||174::Unknown||175::Unknown||176::Unknown||177::Unknown||178::Unknown||179::Unknown||180::Unknown||181::Unknown||182::Unknown',\n '0::Not-stolen||1::Not-stolen||2::Not-stolen||3::Not-stolen||4::Not-stolen',\n '0::Unknown||1::Stolen||2::Stolen||3::Stolen||4::Stolen||5::Stolen||6::Stolen||7::Stolen||8::Stolen',\n '0::Unknown||1::Unknown||2::Unknown||3::Unknown||4::Unknown||5::Unknown||6::Unknown||7::Unknown||8::Unknown||9::Unknown||10::Unknown||11::Unknown||12::Unknown||13::Unknown||14::Unknown||15::Unknown||16::Unknown||17::Unknown||18::Unknown||19::Unknown',\n '0::Unknown||1::Stolen||2::Stolen',\n '0:Stolen|1:Stolen',\n '0::Unknown||1::Unknown||2::Stolen||3::Stolen||4::Unknown||5::Unknown||6::Unknown||7::Unknown',\n '0::Stolen||1::Stolen||2::Stolen||3::Stolen||4::Stolen||5::Stolen||6::Stolen||7::Stolen||8::Stolen||9::Stolen||10::Stolen||11::Stolen||12::Stolen||13::Stolen||14::Stolen',\n '0::Stolen||1::Stolen||2::Stolen||3::Stolen||4::Stolen||5::Stolen||6::Stolen||7::Stolen||8::Stolen||9::Stolen||10::Stolen||11::Stolen||12::Stolen||13::Stolen||14::Stolen||15::Stolen||16::Stolen',\n '0::Stolen||1::Stolen||2::Stolen||3::Stolen||4::Stolen||5::Stolen||6::Stolen||7::Stolen||8::Stolen||9::Stolen||10::Stolen||11::Stolen',\n '0::Unknown||1::Unknown||2::Unknown||3::Unknown||4::Unknown||5::Unknown||6::Unknown||7::Unknown||8::Unknown||9::Unknown||10::Unknown',\n '0::Unknown||1::Unknown||2::Unknown||3::Unknown||4::Unknown||5::Unknown||6::Unknown||7::Unknown||8::Unknown||9::Unknown||10::Unknown||11::Unknown||12::Unknown||13::Unknown||14::Unknown||15::Unknown||16::Unknown||17::Unknown||18::Unknown||19::Unknown||20::Unknown||21::Unknown||22::Unknown||23::Unknown||24::Unknown||25::Unknown||26::Unknown||27::Unknown||28::Unknown||29::Unknown||30::Unknown||31::Unknown||32::Unknown||33::Unknown||34::Unknown||35::Unknown||36::Unknown||37::Unknown||38::Unknown||39::Unknown||40::Unknown||41::Unknown||42::Unknown||43::Unknown||44::Unknown',\n '0::Stolen||1::Stolen||2::Stolen||3::Stolen||4::Unknown||5::Unknown||6::Unknown||7::Unknown',\n '0::Not-stolen||1::Not-stolen',\n '0::Unknown||1::Unknown||2::Stolen',\n '0::Unknown||1::Unknown||2::Unknown||3::Unknown||4::Unknown||5::Unknown||6::Unknown||7::Unknown||8::Unknown||9::Unknown||10::Unknown||11::Unknown',\n '0::Stolen||1::Stolen||2::Stolen||3::Stolen||4::Stolen',\n '0::Unknown||1::Unknown||2::Unknown||3::Unknown||4::Unknown||5::Unknown||6::Unknown||7::Unknown||8::Unknown||9::Unknown||10::Unknown||11::Unknown||12::Unknown||13::Unknown||14::Unknown||15::Unknown',\n '0::Unknown||1::Unknown||2::Not-stolen',\n '0::Not-stolen||1::Not-stolen||2::Not-stolen',\n '0::Unknown||1::Unknown||2::Unknown||3::Unknown||4::Unknown||5::Unknown||6::Unknown||7::Unknown||8::Unknown||9::Unknown||10::Unknown||11::Unknown||12::Unknown||13::Unknown||14::Unknown||15::Unknown||16::Unknown||17::Unknown||18::Unknown||19::Unknown||20::Unknown||21::Unknown||22::Unknown||23::Unknown||24::Unknown||25::Unknown||26::Unknown',\n '0::Unknown||1::Unknown||2::Unknown||3::Unknown||4::Unknown||5::Unknown||6::Unknown||7::Unknown||8::Unknown||9::Unknown||10::Unknown||11::Unknown||12::Unknown||13::Unknown||14::Unknown||15::Unknown||16::Unknown||17::Unknown||18::Unknown||19::Unknown||20::Unknown||21::Unknown||22::Unknown||23::Unknown||24::Unknown||25::Unknown||26::Unknown||27::Unknown||28::Unknown||29::Unknown||30::Unknown||31::Unknown||32::Unknown||33::Unknown||34::Unknown',\n '0::Stolen||1::Stolen||2::Stolen||3::Stolen||4::Stolen||5::Stolen||6::Stolen||7::Stolen||8::Stolen',\n '0::Unknown||1::Unknown||2::Stolen||3::Unknown',\n '0::Stolen||1::Stolen||2::Stolen||3::Stolen||4::Stolen||5::Stolen||6::Stolen||7::Stolen||8::Stolen||9::Stolen||10::Stolen||11::Stolen||12::Stolen||13::Stolen||14::Stolen||15::Stolen||16::Stolen||17::Stolen||18::Stolen||19::Stolen||20::Stolen||21::Stolen||22::Stolen||23::Stolen||24::Stolen',\n '0::Unknown||1::Stolen||2::Stolen||3::Stolen||4::Unknown||5::Unknown||6::Unknown||7::Unknown',\n '0::Unknown||1::Unknown||2::Unknown||3::Unknown||4::Unknown||5::Unknown||6::Unknown||7::Unknown||8::Unknown||9::Unknown||10::Unknown||11::Unknown||12::Unknown||13::Unknown||14::Unknown||15::Unknown||16::Unknown||17::Unknown||18::Unknown||19::Unknown||20::Unknown||21::Unknown||22::Unknown||23::Unknown',\n '0::Stolen||1::Unknown||2::Unknown||3::Unknown||4::Unknown||5::Unknown||6::Unknown||7::Unknown||8::Unknown',\n '0::Unknown||1::Unknown||2::Unknown||3::Unknown||4::Unknown||5::Unknown||6::Unknown||7::Unknown||8::Unknown||9::Unknown||10::Unknown||11::Unknown||12::Unknown||13::Unknown||14::Unknown',\n '0::Not-stolen||1::Stolen||2::Stolen||3::Stolen||4::Stolen||5::Stolen||6::Not-stolen||7::Not-stolen||8::Not-stolen',\n '0::Unknown||1::Unknown||2::Unknown||3::Unknown||4::Unknown||5::Unknown||6::Unknown||7::Unknown||8::Unknown||9::Unknown||10::Unknown||11::Unknown||12::Unknown||13::Unknown||14::Unknown||15::Unknown||16::Unknown||17::Unknown||18::Unknown||19::Unknown||20::Unknown||21::Unknown||22::Unknown',\n '0::Unknown||1::Unknown||2::Unknown||3::Unknown||4::Unknown||5::Unknown||6::Unknown||7::Unknown||8::Unknown||9::Unknown||10::Unknown||11::Unknown||12::Unknown||13::Unknown||14::Unknown||15::Unknown||16::Unknown||17::Unknown||18::Unknown||19::Unknown||20::Unknown||21::Unknown||22::Unknown||23::Unknown||24::Unknown||25::Unknown||26::Unknown||27::Unknown||28::Unknown||29::Unknown||30::Unknown||31::Unknown||32::Unknown||33::Unknown||34::Unknown||35::Unknown||36::Unknown||37::Unknown||38::Unknown||39::Unknown||40::Unknown||41::Unknown||42::Unknown||43::Unknown||44::Unknown||45::Unknown||46::Unknown||47::Unknown||48::Unknown||49::Unknown',\n '0::Stolen||1::Stolen||2::Unknown',\n '0::Stolen||1::Stolen||2::Stolen||3::Stolen||4::Stolen||5::Stolen||6::Stolen||7::Stolen||8::Stolen||9::Stolen||10::Stolen||11::Stolen||12::Stolen||13::Stolen||14::Stolen||15::Stolen||16::Stolen||17::Stolen||18::Stolen||19::Stolen||20::Stolen||21::Stolen||22::Stolen||23::Stolen||24::Stolen||25::Stolen',\n '0::Stolen||1::Stolen||2::Stolen||3::Unknown||4::Unknown||5::Unknown||6::Unknown||7::Unknown||8::Unknown||9::Unknown||10::Unknown||11::Unknown||12::Unknown||13::Unknown||14::Unknown||15::Unknown||16::Unknown',\n '0::Unknown||1::Unknown||2::Stolen||3::Stolen',\n '0::Unknown||1::Unknown||2::Unknown||3::Unknown||4::Unknown||5::Unknown||6::Unknown||7::Unknown||8::Unknown||9::Unknown||10::Unknown||11::Unknown||12::Unknown||13::Unknown||14::Unknown||15::Unknown||16::Unknown||17::Unknown||18::Unknown||19::Unknown||20::Unknown||21::Unknown||22::Unknown||23::Unknown||24::Unknown||25::Unknown||26::Unknown||27::Unknown||28::Unknown||29::Unknown',\n '0::Unknown||1::Unknown||2::Unknown||3::Unknown||4::Unknown||5::Unknown||6::Unknown||7::Unknown||8::Unknown||9::Unknown||10::Unknown||11::Unknown||12::Unknown||13::Unknown||14::Unknown||15::Unknown||16::Unknown',\n '0::Stolen||1::Unknown||2::Unknown||3::Unknown||4::Unknown',\n '0::Unknown||1::Unknown||2::Unknown||3::Unknown||4::Unknown||5::Unknown||6::Unknown||7::Unknown||8::Unknown||9::Unknown||10::Unknown||11::Unknown||12::Unknown||13::Unknown||14::Unknown||15::Unknown||16::Unknown||17::Unknown||18::Unknown||19::Unknown||20::Unknown||21::Unknown||22::Unknown||23::Unknown||24::Unknown||25::Unknown||26::Unknown||27::Unknown||28::Unknown||29::Unknown||30::Unknown||31::Unknown||32::Unknown||33::Unknown||34::Unknown||35::Unknown||36::Unknown||37::Unknown||38::Unknown||39::Unknown',\n '0::Unknown||1::Unknown||2::Unknown||3::Unknown||4::Unknown||5::Unknown||6::Unknown||7::Unknown||8::Unknown||9::Unknown||10::Unknown||11::Unknown||12::Unknown||13::Unknown||14::Unknown||15::Unknown||16::Unknown||17::Unknown||18::Unknown||19::Unknown||20::Unknown||21::Unknown||22::Unknown||23::Unknown||24::Unknown||25::Unknown||26::Unknown||27::Unknown||28::Unknown||29::Unknown||30::Unknown||31::Unknown||32::Unknown||33::Unknown||34::Unknown||35::Unknown||36::Unknown||37::Unknown||38::Unknown||39::Unknown||40::Unknown',\n '0::Stolen||1::Unknown||2::Unknown||3::Unknown||4::Stolen||5::Stolen||6::Stolen||7::Stolen||8::Stolen||9::Stolen||10::Stolen||11::Unknown||12::Unknown',\n '0::Unknown||1::Unknown||2::Unknown||3::Unknown||4::Unknown||5::Unknown||6::Unknown||7::Unknown||8::Unknown||9::Unknown||10::Unknown||11::Unknown||12::Unknown||13::Unknown||14::Unknown||15::Unknown||16::Unknown||17::Unknown||18::Unknown||19::Unknown||20::Unknown||21::Unknown||22::Unknown||23::Unknown||24::Unknown||25::Unknown',\n '0::Unknown||1::Unknown||2::Unknown||3::Unknown||4::Unknown||5::Unknown||6::Unknown||7::Unknown||8::Unknown||9::Unknown||10::Unknown||11::Unknown||12::Unknown||13::Unknown||14::Unknown||15::Unknown||16::Unknown||17::Unknown||18::Unknown||19::Unknown||20::Unknown||21::Unknown||22::Unknown||23::Unknown||24::Unknown||25::Unknown||26::Unknown||27::Unknown||28::Unknown||29::Unknown||30::Unknown||31::Unknown',\n '0::Unknown||1::Unknown||2::Unknown||3::Unknown||4::Unknown||5::Unknown||6::Unknown||7::Unknown||8::Unknown||9::Unknown||10::Unknown||11::Unknown||12::Unknown||13::Unknown||14::Unknown||15::Unknown||16::Unknown||17::Unknown||18::Unknown||19::Unknown||20::Unknown||21::Unknown||22::Unknown||23::Unknown||24::Unknown||25::Unknown||26::Unknown||27::Unknown||28::Unknown||29::Unknown||30::Unknown||31::Unknown||32::Unknown||33::Unknown||34::Unknown||35::Unknown||36::Unknown||37::Unknown||38::Unknown||39::Unknown||40::Unknown||41::Unknown||42::Unknown',\n '0::Stolen||1::Stolen||2::Stolen||3::Stolen||4::Stolen||5::Stolen||6::Stolen||7::Stolen||8::Stolen||9::Stolen||10::Stolen||11::Stolen||12::Stolen',\n '0::Stolen||1::Stolen||2::Stolen||3::Stolen||4::Stolen||5::Stolen||6::Stolen||7::Stolen||8::Stolen||9::Stolen||10::Stolen||11::Stolen||12::Stolen||13::Stolen||14::Stolen||15::Stolen||16::Not-stolen||17::Not-stolen||18::Stolen||19::Stolen',\n '0::Stolen||1::Stolen||2::Stolen||3::Stolen||4::Unknown||5::Stolen||6::Stolen',\n '0::Stolen||1::Stolen||2::Unknown||3::Unknown||4::Unknown||5::Unknown',\n '0::Stolen||1::Stolen||2::Stolen||3::Stolen||4::Stolen||5::Stolen||6::Stolen||7::Stolen||8::Stolen||9::Stolen||10::Stolen||11::Stolen||12::Stolen||13::Stolen||14::Stolen||15::Stolen||16::Stolen||17::Stolen||18::Stolen||19::Stolen||20::Stolen||21::Stolen||22::Stolen||23::Stolen||24::Stolen||25::Stolen||26::Stolen||27::Stolen||28::Stolen',\n '0::Unknown||1::Unknown||2::Unknown||3::Unknown||4::Unknown||5::Unknown||6::Unknown||7::Unknown||8::Unknown||9::Unknown||10::Unknown||11::Unknown||12::Unknown||13::Unknown||14::Unknown||15::Unknown||16::Unknown||17::Unknown||18::Unknown||19::Unknown||20::Unknown',\n '0::Unknown||1::Unknown||2::Unknown||3::Unknown||4::Unknown||5::Unknown||6::Unknown||7::Unknown||8::Unknown||9::Unknown||10::Unknown||11::Unknown||12::Unknown||13::Unknown||14::Unknown||15::Unknown||16::Unknown||17::Unknown||18::Unknown||19::Unknown||20::Unknown||21::Unknown||22::Unknown||23::Unknown||24::Unknown||25::Unknown||26::Unknown||27::Unknown||28::Unknown||29::Unknown||30::Unknown||31::Unknown||32::Unknown||33::Unknown||34::Unknown||35::Unknown||36::Unknown||37::Unknown||38::Unknown||39::Unknown||40::Unknown||41::Unknown||42::Unknown||43::Unknown||44::Unknown||45::Unknown||46::Unknown||47::Unknown||48::Unknown||49::Unknown||50::Unknown||51::Unknown||52::Unknown||53::Unknown||54::Unknown||55::Unknown||56::Unknown||57::Unknown||58::Unknown||59::Unknown||60::Unknown||61::Unknown||62::Unknown||63::Unknown||64::Unknown||65::Unknown||66::Unknown||67::Unknown||68::Unknown||69::Unknown||70::Unknown||71::Unknown||72::Unknown||73::Unknown||74::Unknown||75::Unknown||76::Unknown||77::Unknown||78::Unknown||79::Unknown||80::Unknown||81::Unknown||82::Unknown||83::Unknown||84::Unknown',\n '0::Stolen||1::Stolen||2::Stolen||3::Stolen||4::Stolen||5::Stolen||6::Stolen||7::Stolen||8::Stolen||9::Stolen||10::Stolen||11::Stolen||12::Stolen||13::Stolen||14::Stolen||15::Stolen||16::Stolen||17::Stolen||18::Stolen||19::Stolen||20::Stolen||21::Stolen',\n '0::Unknown||1::Stolen||2::Unknown',\n '0::Not-stolen||1::Unknown||2::Unknown',\n '0::Stolen||1::Stolen||2::Stolen||3::Stolen||4::Stolen||5::Stolen||6::Stolen||7::Stolen||8::Stolen||9::Unknown||10::Unknown||11::Unknown',\n '0::Stolen||1::Stolen||2::Stolen||3::Stolen||4::Unknown||5::Unknown',\n '0::Stolen||1::Stolen||2::Stolen||3::Stolen||4::Stolen||5::Stolen||6::Stolen||7::Stolen||8::Stolen||9::Stolen||10::Stolen||11::Stolen||12::Stolen||13::Stolen||14::Stolen||15::Stolen||16::Stolen||17::Stolen||18::Stolen||19::Stolen||20::Stolen||21::Unknown',\n '0::Unknown||1::Unknown||2::Unknown||3::Unknown||4::Unknown||5::Unknown||6::Unknown||7::Unknown||8::Unknown||9::Unknown||10::Unknown||11::Unknown||12::Unknown||13::Unknown||14::Unknown||15::Unknown||16::Unknown||17::Unknown||18::Unknown||19::Unknown||20::Unknown||21::Unknown||22::Unknown||23::Unknown||24::Unknown||25::Unknown||26::Unknown||27::Unknown',\n '0::Stolen||1::Stolen||2::Stolen||3::Stolen||4::Stolen||5::Stolen||6::Stolen||7::Stolen||8::Stolen||9::Stolen||10::Stolen||11::Stolen||12::Stolen||13::Stolen||14::Stolen||15::Stolen||16::Stolen||17::Stolen||18::Stolen||19::Stolen||20::Stolen||21::Stolen||22::Stolen||23::Stolen||24::Stolen||25::Stolen||26::Stolen||27::Stolen||28::Stolen||29::Stolen||30::Stolen||31::Stolen||32::Stolen||33::Stolen',\n '0::Stolen||1::Stolen||2::Unknown||3::Unknown||4::Unknown',\n '0::Unknown||1::Unknown||2::Unknown||3::Unknown||4::Unknown||5::Unknown||6::Unknown||7::Unknown||8::Unknown||9::Unknown||10::Unknown||11::Unknown||12::Unknown||13::Unknown||14::Unknown||15::Unknown||16::Unknown||17::Unknown||18::Unknown||19::Unknown||20::Unknown||21::Unknown||22::Unknown||23::Unknown||24::Unknown||25::Unknown||26::Unknown||27::Unknown||28::Unknown||29::Unknown||30::Unknown||31::Unknown||32::Unknown||33::Unknown||34::Unknown||35::Unknown||36::Unknown||37::Unknown||38::Unknown||39::Unknown||40::Unknown||41::Unknown||42::Unknown||43::Unknown||44::Unknown||45::Unknown||46::Unknown||47::Unknown||48::Unknown||49::Unknown||50::Unknown||51::Unknown||52::Unknown||53::Unknown||54::Unknown||55::Unknown||56::Unknown||57::Unknown||58::Unknown||59::Unknown||60::Unknown||61::Unknown||62::Unknown||63::Unknown||64::Unknown||65::Unknown||66::Unknown||67::Unknown||68::Unknown||69::Unknown||70::Unknown||71::Unknown||72::Unknown',\n '0::Stolen||1::Stolen||2::Stolen||3::Stolen||4::Stolen||5::Stolen||6::Stolen||7::Stolen||8::Stolen||9::Stolen||10::Stolen||11::Stolen||12::Stolen||13::Stolen||14::Stolen||15::Stolen||16::Stolen||17::Stolen',\n '0::Unknown||1::Unknown||2::Unknown||3::Unknown||4::Unknown||5::Unknown||6::Unknown||7::Unknown||8::Unknown||9::Unknown||10::Unknown||11::Unknown||12::Unknown||13::Unknown||14::Unknown||15::Unknown||16::Unknown||17::Unknown||18::Unknown||19::Unknown||20::Unknown||21::Unknown||22::Unknown||23::Unknown||24::Unknown||25::Unknown||26::Unknown||27::Unknown||28::Unknown||29::Unknown||30::Unknown||31::Unknown||32::Unknown||33::Unknown||34::Unknown||35::Unknown||36::Unknown||37::Unknown||38::Unknown||39::Unknown||40::Unknown||41::Unknown||42::Unknown||43::Unknown||44::Unknown||45::Unknown||46::Unknown||47::Unknown||48::Unknown||49::Unknown||50::Unknown||51::Unknown||52::Unknown||53::Unknown||54::Unknown||55::Unknown||56::Unknown||57::Unknown||58::Unknown||59::Unknown||60::Unknown||61::Unknown||62::Unknown||63::Unknown||64::Unknown||65::Unknown||66::Unknown||67::Unknown||68::Unknown||69::Unknown||70::Unknown||71::Unknown||72::Unknown||73::Unknown||74::Unknown||75::Unknown||76::Unknown||77::Unknown||78::Unknown||79::Unknown||80::Unknown||81::Unknown||82::Unknown||83::Unknown||84::Unknown||85::Unknown||86::Unknown||87::Unknown||88::Unknown||89::Unknown||90::Unknown||91::Unknown||92::Unknown||93::Unknown||94::Unknown||95::Unknown||96::Unknown||97::Unknown||98::Unknown||99::Unknown||100::Unknown||101::Unknown||102::Unknown||103::Unknown||104::Unknown||105::Unknown||106::Unknown||107::Unknown||108::Unknown||109::Unknown||110::Unknown||111::Unknown||112::Unknown||113::Unknown||114::Unknown||115::Unknown||116::Unknown||117::Unknown||118::Unknown||119::Unknown||120::Unknown||121::Unknown||122::Unknown||123::Unknown||124::Unknown||125::Unknown||126::Unknown||127::Unknown||128::Unknown||129::Unknown||130::Unknown||131::Unknown||132::Unknown||133::Unknown||134::Unknown||135::Unknown||136::Unknown||137::Unknown',\n '0::Unknown||1::Stolen||2::Unknown||3::Unknown',\n '0::Stolen||1::Stolen||2::Stolen||3::Stolen||4::Stolen||5::Stolen||6::Stolen||7::Stolen||8::Stolen||9::Stolen||10::Stolen||11::Stolen||12::Stolen||13::Stolen||14::Stolen||15::Stolen||16::Stolen||17::Stolen||18::Stolen||19::Stolen||20::Stolen||21::Stolen||22::Stolen||23::Stolen||24::Stolen||25::Stolen||26::Stolen||27::Stolen||28::Stolen||29::Stolen||30::Stolen||31::Stolen||32::Stolen||33::Stolen||34::Stolen||35::Stolen||36::Stolen||37::Stolen||38::Stolen||39::Stolen||40::Stolen||41::Stolen||42::Stolen||43::Stolen||44::Stolen||45::Stolen||46::Stolen||47::Stolen||48::Stolen||49::Stolen||50::Stolen||51::Stolen||52::Stolen||53::Stolen||54::Stolen||55::Stolen||56::Stolen||57::Stolen||58::Stolen||59::Stolen',\n '0::Unknown||1::Unknown||2::Unknown||3::Unknown||4::Unknown||5::Unknown||6::Unknown||7::Unknown||8::Unknown||9::Unknown||10::Unknown||11::Unknown||12::Unknown||13::Unknown||14::Unknown||15::Unknown||16::Unknown||17::Unknown||18::Unknown||19::Unknown||20::Unknown||21::Unknown||22::Unknown||23::Unknown||24::Unknown||25::Unknown||26::Unknown||27::Unknown||28::Unknown||29::Unknown||30::Unknown||31::Unknown||32::Unknown||33::Unknown||34::Unknown||35::Unknown||36::Unknown||37::Unknown||38::Unknown||39::Unknown||40::Unknown||41::Unknown||42::Unknown||43::Unknown||44::Unknown||45::Unknown||46::Unknown||47::Unknown||48::Unknown||49::Unknown||50::Unknown||51::Unknown||52::Unknown||53::Unknown||54::Unknown||55::Unknown||56::Unknown||57::Unknown||58::Unknown||59::Unknown||60::Unknown||61::Unknown||62::Unknown||63::Unknown||64::Unknown||65::Unknown||66::Unknown||67::Unknown||68::Unknown||69::Unknown||70::Unknown||71::Unknown||72::Unknown||73::Unknown||74::Unknown||75::Unknown||76::Unknown||77::Unknown||78::Unknown||79::Unknown||80::Unknown||81::Unknown||82::Unknown||83::Unknown||84::Unknown||85::Unknown||86::Unknown||87::Unknown||88::Unknown||89::Unknown||90::Unknown||91::Unknown||92::Unknown||93::Unknown||94::Unknown||95::Unknown||96::Unknown||97::Unknown||98::Unknown||99::Unknown||100::Unknown||101::Unknown||102::Unknown||103::Unknown||104::Unknown||105::Unknown||106::Unknown||107::Unknown||108::Unknown||109::Unknown||110::Unknown||111::Unknown||112::Unknown||113::Unknown||114::Unknown||115::Unknown||116::Unknown||117::Unknown||118::Unknown||119::Unknown||120::Unknown||121::Unknown||122::Unknown||123::Unknown||124::Unknown||125::Unknown||126::Unknown||127::Unknown||128::Unknown||129::Unknown||130::Unknown||131::Unknown||132::Unknown||133::Unknown||134::Unknown||135::Unknown||136::Unknown||137::Unknown||138::Unknown||139::Unknown||140::Unknown||141::Unknown||142::Unknown||143::Unknown||144::Unknown||145::Unknown||146::Unknown||147::Unknown||148::Unknown||149::Unknown||150::Unknown||151::Unknown||152::Unknown||153::Unknown||154::Unknown||155::Unknown||156::Unknown||157::Unknown||158::Unknown||159::Unknown||160::Unknown||161::Unknown||162::Unknown||163::Unknown||164::Unknown||165::Unknown||166::Unknown||167::Unknown||168::Unknown||169::Unknown||170::Unknown||171::Unknown||172::Unknown||173::Unknown||174::Unknown||175::Unknown||176::Unknown||177::Unknown||178::Unknown||179::Unknown||180::Unknown||181::Unknown||182::Unknown||183::Unknown||184::Unknown||185::Unknown||186::Unknown||187::Unknown||188::Unknown||189::Unknown||190::Unknown||191::Unknown||192::Unknown||193::Unknown||194::Unknown||195::Unknown||196::Unknown||197::Unknown||198::Unknown||199::Unknown||200::Unknown||201::Unknown||202::Unknown||203::Unknown||204::Unknown||205::Unknown||206::Unknown||207::Unknown||208::Unknown||209::Unknown||210::Unknown||211::Unknown||212::Unknown||213::Unknown||214::Unknown||215::Unknown||216::Unknown||217::Unknown||218::Unknown||219::Unknown||220::Unknown||221::Unknown||222::Unknown||223::Unknown||224::Unknown||225::Unknown||226::Unknown||227::Unknown||228::Unknown||229::Unknown||230::Unknown||231::Unknown||232::Unknown||233::Unknown||234::Unknown||235::Unknown||236::Unknown||237::Unknown||238::Unknown||239::Unknown||240::Unknown||241::Unknown||242::Unknown||243::Unknown||244::Unknown||245::Unknown||246::Unknown||247::Unknown||248::Unknown||249::Unknown||250::Unknown||251::Unknown||252::Unknown||253::Unknown||254::Unknown||255::Unknown||256::Unknown||257::Unknown||258::Unknown||259::Unknown||260::Unknown||261::Unknown||262::Unknown||263::Unknown||264::Unknown||265::Unknown||266::Unknown||267::Unknown||268::Unknown||269::Unknown||270::Unknown||271::Unknown||272::Unknown||273::Unknown||274::Unknown||275::Unknown||276::Unknown||277::Unknown||278::Unknown||279::Unknown||280::Unknown||281::Unknown||282::Unknown||283::Unknown||284::Unknown||285::Unknown||286::Unknown||287::Unknown||288::Unknown||289::Unknown||290::Unknown||291::Unknown||292::Unknown||293::Unknown||294::Unknown||295::Unknown||296::Unknown||297::Unknown||298::Unknown||299::Unknown||300::Unknown||301::Unknown||302::Unknown||303::Unknown||304::Unknown||305::Unknown||306::Unknown||307::Unknown||308::Unknown||309::Unknown||310::Unknown||311::Unknown||312::Unknown||313::Unknown||314::Unknown||315::Unknown||316::Unknown||317::Unknown||318::Unknown||319::Unknown||320::Unknown||321::Unknown||322::Unknown||323::Unknown||324::Unknown||325::Unknown||326::Unknown||327::Unknown||328::Unknown||329::Unknown||330::Unknown||331::Unknown||332::Unknown||333::Unknown||334::Unknown||335::Unknown||336::Unknown||337::Unknown||338::Unknown||339::Unknown||340::Unknown||341::Unknown||342::Unknown||343::Unknown||344::Unknown||345::Unknown',\n '0::Stolen||1::Stolen||2::Unknown||3::Unknown||4::Unknown||5::Unknown||6::Unknown',\n '0::Not-stolen||1::Not-stolen||2::Not-stolen||3::Not-stolen',\n '0::Stolen||1::Stolen||2::Stolen||3::Stolen||4::Stolen||5::Stolen||6::Stolen||7::Stolen||8::Stolen||9::Stolen||10::Stolen||11::Stolen||12::Stolen||13::Stolen||14::Stolen||15::Stolen||16::Stolen||17::Stolen||18::Stolen||19::Stolen||20::Stolen||21::Stolen||22::Stolen||23::Stolen||24::Stolen||25::Stolen||26::Stolen||27::Stolen||28::Stolen||29::Stolen||30::Stolen||31::Stolen||32::Stolen||33::Stolen||34::Stolen||35::Stolen||36::Stolen||37::Stolen||38::Stolen||39::Stolen||40::Stolen||41::Stolen||42::Stolen||43::Stolen||44::Stolen||45::Stolen||46::Stolen||47::Stolen||48::Stolen||49::Stolen||50::Stolen||51::Stolen||52::Stolen||53::Stolen||54::Stolen||55::Unknown||56::Unknown||57::Unknown||58::Unknown||59::Unknown||60::Unknown||61::Unknown||62::Unknown||63::Unknown||64::Unknown||65::Unknown||66::Unknown||67::Unknown||68::Unknown||69::Unknown||70::Unknown||71::Unknown||72::Unknown||73::Unknown||74::Unknown||75::Unknown||76::Unknown||77::Unknown||78::Unknown||79::Unknown||80::Unknown||81::Unknown||82::Unknown||83::Unknown||84::Unknown||85::Unknown||86::Unknown||87::Unknown||88::Unknown||89::Unknown||90::Unknown||91::Unknown||92::Unknown||93::Unknown||94::Unknown||95::Unknown',\n '0::Unknown||1::Not-stolen',\n '0::Stolen||1::Stolen||2::Stolen||3::Stolen||4::Stolen||5::Stolen||6::Stolen||7::Stolen||8::Stolen||9::Stolen||10::Stolen||11::Stolen||12::Stolen||13::Stolen||14::Stolen||15::Stolen||16::Stolen||17::Stolen||18::Stolen||19::Stolen||20::Stolen||21::Stolen||22::Stolen||23::Stolen||24::Stolen||25::Stolen||26::Stolen||27::Stolen||28::Stolen||29::Stolen||30::Stolen||31::Stolen||32::Stolen||33::Stolen||34::Stolen||35::Stolen||36::Stolen||37::Stolen||38::Stolen||39::Stolen',\n '0::Stolen||1::Stolen||2::Stolen||3::Unknown||4::Unknown||5::Unknown||6::Unknown||7::Unknown||8::Unknown||9::Unknown||10::Unknown||11::Unknown||12::Unknown||13::Unknown||14::Unknown']"
     },
     "execution_count": 23,
     "metadata": {},
     "output_type": "execute_result"
    }
   ],
   "source": [
    "list(df[\"gun_stolen\"].unique())\n",
    "# looking at the options for gun stolen status"
   ],
   "metadata": {
    "collapsed": false
   }
  },
  {
   "cell_type": "markdown",
   "source": [
    "## gun_stolen handling\n",
    "I will one-hot encode this feature to 3 dummies - [unknown,stolen,not stolen]\n",
    "The feature will be determined by the worse option in this order Stolen -> not Stolen -> unknown\n",
    "examples:\n",
    "stolen + unknown = stolen\n",
    "unknown = unknown\n",
    "not stolen + unknown =not  stolen\n",
    "\n"
   ],
   "metadata": {
    "collapsed": false
   }
  },
  {
   "cell_type": "code",
   "execution_count": 24,
   "outputs": [],
   "source": [
    "def determine_severity(gun_stolen:str) -> str:\n",
    "    \"\"\"\n",
    "    return the current severity\n",
    "    :param gun_stolen:\n",
    "    :return:\n",
    "    \"\"\"\n",
    "    stolen_flag = False\n",
    "    uncleaned_expression_list = gun_stolen.split(\"::\")\n",
    "    for exp in uncleaned_expression_list:\n",
    "        lower_exp = exp.lower()\n",
    "        if \"stolen\" in lower_exp and not \"not-stolen\" in lower_exp:\n",
    "            return \"stolen\"\n",
    "        elif \"not-stolen\" in lower_exp:\n",
    "            stolen_flag = True\n",
    "    return \"not-stolen\" if stolen_flag else \"unknown\"\n"
   ],
   "metadata": {
    "collapsed": false
   }
  },
  {
   "cell_type": "code",
   "execution_count": 46,
   "outputs": [
    {
     "data": {
      "text/plain": "unknown       23072\nstolen          744\nnot-stolen      151\nName: gun_stolen, dtype: int64"
     },
     "execution_count": 46,
     "metadata": {},
     "output_type": "execute_result"
    }
   ],
   "source": [
    "df[\"gun_stolen\"] = df[\"gun_stolen\"].apply(determine_severity)\n",
    "df['gun_stolen'].value_counts()\n",
    "\n",
    "#TODO make dommies out of thos three categories"
   ],
   "metadata": {
    "collapsed": false
   }
  },
  {
   "cell_type": "markdown",
   "source": [
    "## participant_age handling\n",
    "i changed the format to more accesable list-like format"
   ],
   "metadata": {
    "collapsed": false
   }
  },
  {
   "cell_type": "code",
   "execution_count": 26,
   "outputs": [],
   "source": [
    "def format_ages(age:str) -> str:\n",
    "    \"\"\"\n",
    "    formatin the age feature\n",
    "    :param age:\n",
    "    :return:\n",
    "    \"\"\"\n",
    "    uncleaned_format = age.split(\"::\")[1:]\n",
    "    str_format =\"\"\n",
    "    for exp in uncleaned_format:\n",
    "        if \"||\" in exp:\n",
    "            age = exp.split('||')[0]\n",
    "            str_format += f\"{age},\"\n",
    "        else:\n",
    "            str_format += exp\n",
    "    return str_format"
   ],
   "metadata": {
    "collapsed": false
   }
  },
  {
   "cell_type": "code",
   "execution_count": 30,
   "outputs": [],
   "source": [
    "df[\"participant_age\"] = df[\"participant_age\"].apply(format_ages)"
   ],
   "metadata": {
    "collapsed": false
   }
  },
  {
   "cell_type": "code",
   "execution_count": 28,
   "outputs": [],
   "source": [],
   "metadata": {
    "collapsed": false
   }
  }
 ],
 "metadata": {
  "kernelspec": {
   "display_name": "Python 3 (ipykernel)",
   "language": "python",
   "name": "python3"
  },
  "language_info": {
   "codemirror_mode": {
    "name": "ipython",
    "version": 3
   },
   "file_extension": ".py",
   "mimetype": "text/x-python",
   "name": "python",
   "nbconvert_exporter": "python",
   "pygments_lexer": "ipython3",
   "version": "3.9.13"
  }
 },
 "nbformat": 4,
 "nbformat_minor": 1
}
